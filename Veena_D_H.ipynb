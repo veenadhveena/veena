{
  "cells": [
    {
      "cell_type": "code",
      "execution_count": null,
      "metadata": {
        "id": "aeIT6Us9iIpH"
      },
      "outputs": [],
      "source": [
        ""
      ]
    },
    {
      "cell_type": "code",
      "source": [
        ""
      ],
      "metadata": {
        "id": "aWa2o76C7pbK"
      },
      "execution_count": null,
      "outputs": []
    },
    {
      "cell_type": "markdown",
      "metadata": {
        "id": "aM0zleNkDREr"
      },
      "source": [
        ""
      ]
    },
    {
      "cell_type": "markdown",
      "metadata": {
        "id": "5FAIn0pDwtUP"
      },
      "source": [
        ""
      ]
    },
    {
      "cell_type": "markdown",
      "metadata": {
        "id": "7ve2Pyy3iJbN"
      },
      "source": [
        "Data Type"
      ]
    },
    {
      "cell_type": "code",
      "execution_count": null,
      "metadata": {
        "colab": {
          "base_uri": "https://localhost:8080/"
        },
        "id": "Lbk062_oiLxV",
        "outputId": "0ba5a090-fff6-47ff-eabe-5e6212f687c5"
      },
      "outputs": [
        {
          "output_type": "execute_result",
          "data": {
            "text/plain": [
              "int"
            ]
          },
          "metadata": {},
          "execution_count": 27
        }
      ],
      "source": [
        "#integer\n",
        "#pre-defined function\n",
        "type(1)"
      ]
    },
    {
      "cell_type": "code",
      "execution_count": null,
      "metadata": {
        "colab": {
          "base_uri": "https://localhost:8080/"
        },
        "id": "NvwdJTrUiW8T",
        "outputId": "37c3169e-5f66-43c7-b12f-60978522a79e"
      },
      "outputs": [
        {
          "output_type": "execute_result",
          "data": {
            "text/plain": [
              "float"
            ]
          },
          "metadata": {},
          "execution_count": 28
        }
      ],
      "source": [
        "#do this\n",
        "#write the value 12.4 and tell me the output\n",
        "type(12.4)"
      ]
    },
    {
      "cell_type": "code",
      "execution_count": null,
      "metadata": {
        "colab": {
          "base_uri": "https://localhost:8080/"
        },
        "id": "qPhopgqkitOE",
        "outputId": "1a8080ce-4bc2-4cdd-9c1f-228861eb8b7a"
      },
      "outputs": [
        {
          "output_type": "execute_result",
          "data": {
            "text/plain": [
              "tuple"
            ]
          },
          "metadata": {},
          "execution_count": 29
        }
      ],
      "source": [
        "tuple=(tuple,set,dict,list)\n",
        "type(tuple)"
      ]
    },
    {
      "cell_type": "code",
      "execution_count": null,
      "metadata": {
        "colab": {
          "base_uri": "https://localhost:8080/"
        },
        "id": "w4Be-mqDi6tC",
        "outputId": "a190c03c-bb4a-4655-8c43-07eb48626bef"
      },
      "outputs": [
        {
          "output_type": "execute_result",
          "data": {
            "text/plain": [
              "tuple"
            ]
          },
          "metadata": {},
          "execution_count": 30
        }
      ],
      "source": [
        "#tuple\n",
        "type((1,2,3,4,5,6))"
      ]
    },
    {
      "cell_type": "code",
      "execution_count": null,
      "metadata": {
        "colab": {
          "base_uri": "https://localhost:8080/"
        },
        "id": "llXw_klejBGB",
        "outputId": "dd192df9-1bc2-4f48-ce5f-39da07faa7ce"
      },
      "outputs": [
        {
          "output_type": "execute_result",
          "data": {
            "text/plain": [
              "list"
            ]
          },
          "metadata": {},
          "execution_count": 31
        }
      ],
      "source": [
        "#list\n",
        "type([1,2,3,4,5])"
      ]
    },
    {
      "cell_type": "code",
      "execution_count": null,
      "metadata": {
        "colab": {
          "base_uri": "https://localhost:8080/"
        },
        "id": "iX5ZdmDpjIrl",
        "outputId": "9d67146e-6ced-4f50-f50e-79e959b9ad07"
      },
      "outputs": [
        {
          "output_type": "execute_result",
          "data": {
            "text/plain": [
              "{'Name': 'Veena', 'USN': 59, 'age': 23}"
            ]
          },
          "metadata": {},
          "execution_count": 32
        }
      ],
      "source": [
        "#Dictionary\n",
        "{'Name':'Veena','USN':59,'age':23}"
      ]
    },
    {
      "cell_type": "code",
      "execution_count": null,
      "metadata": {
        "colab": {
          "base_uri": "https://localhost:8080/"
        },
        "id": "zn8RNKWLjUbr",
        "outputId": "eb1462f4-0886-4eb6-b623-2bd81329c60f"
      },
      "outputs": [
        {
          "output_type": "stream",
          "name": "stdout",
          "text": [
            "{'Name': 'Veena', 'college': 'bmsit', 'age': 23}\n"
          ]
        }
      ],
      "source": [
        "#to do \n",
        "#make a dictionary add own data\n",
        "dict={'Name':'Veena','college':'bmsit','age':23}\n",
        "print(dict)"
      ]
    },
    {
      "cell_type": "code",
      "execution_count": null,
      "metadata": {
        "colab": {
          "base_uri": "https://localhost:8080/"
        },
        "id": "jPCYLMMhjjvw",
        "outputId": "df038988-c4d2-40b6-f005-ac656d2958e5"
      },
      "outputs": [
        {
          "output_type": "stream",
          "name": "stdout",
          "text": [
            "welcome to bmsit\n"
          ]
        }
      ],
      "source": [
        "#print function\n",
        "print('welcome to bmsit')"
      ]
    },
    {
      "cell_type": "code",
      "execution_count": null,
      "metadata": {
        "colab": {
          "base_uri": "https://localhost:8080/"
        },
        "id": "00bNJ6p4kH9h",
        "outputId": "8f687234-8884-497d-aea4-602a05dfb350"
      },
      "outputs": [
        {
          "output_type": "stream",
          "name": "stdout",
          "text": [
            "my name is veena im studying 4th sem mca in bmsit college\n"
          ]
        }
      ],
      "source": [
        "#you have to print the type of the data and store it\n",
        "str=\"my name is veena im studying 4th sem mca in bmsit college\"\n",
        "print(str)"
      ]
    },
    {
      "cell_type": "code",
      "execution_count": null,
      "metadata": {
        "colab": {
          "base_uri": "https://localhost:8080/",
          "height": 35
        },
        "id": "Trdxht67keSO",
        "outputId": "91484514-957a-471e-8ffd-74bb0c7b7d8a"
      },
      "outputs": [
        {
          "output_type": "execute_result",
          "data": {
            "text/plain": [
              "'hello'"
            ],
            "application/vnd.google.colaboratory.intrinsic+json": {
              "type": "string"
            }
          },
          "metadata": {},
          "execution_count": 36
        }
      ],
      "source": [
        "#variable and identifier\n",
        "str1='hello'\n",
        "str1"
      ]
    },
    {
      "cell_type": "code",
      "execution_count": null,
      "metadata": {
        "colab": {
          "base_uri": "https://localhost:8080/"
        },
        "id": "1Z5-ZS-tklZ6",
        "outputId": "a4484d87-94ca-47f2-f23c-ebb0daac787d"
      },
      "outputs": [
        {
          "output_type": "execute_result",
          "data": {
            "text/plain": [
              "200"
            ]
          },
          "metadata": {},
          "execution_count": 37
        }
      ],
      "source": [
        "#data operators\n",
        "25*8"
      ]
    },
    {
      "cell_type": "markdown",
      "metadata": {
        "id": "Z51M2_DWwxDg"
      },
      "source": [
        "Day_Two_ Assignement"
      ]
    },
    {
      "cell_type": "code",
      "execution_count": null,
      "metadata": {
        "colab": {
          "base_uri": "https://localhost:8080/"
        },
        "id": "AXnu6Ghvw8sm",
        "outputId": "d842b8c0-dad8-4d11-ed94-dde7719e8933"
      },
      "outputs": [
        {
          "output_type": "stream",
          "name": "stdout",
          "text": [
            "[1, 5, 6, 8, 9]\n"
          ]
        }
      ],
      "source": [
        "li=[1,5,6,8,9]\n",
        "print(li)"
      ]
    },
    {
      "cell_type": "code",
      "execution_count": null,
      "metadata": {
        "colab": {
          "base_uri": "https://localhost:8080/"
        },
        "id": "__LfhAsLxOq5",
        "outputId": "0b5a8794-fe51-4f03-9b27-001c5d4a4120"
      },
      "outputs": [
        {
          "output_type": "stream",
          "name": "stdout",
          "text": [
            "[1, 5, 6, 8, 9, 24]\n"
          ]
        }
      ],
      "source": [
        "li.append(24)\n",
        "print(li)"
      ]
    },
    {
      "cell_type": "code",
      "execution_count": null,
      "metadata": {
        "colab": {
          "base_uri": "https://localhost:8080/"
        },
        "id": "mFj-M9bWxbv3",
        "outputId": "11cee6f5-1410-4553-ec65-4d67e6571b1b"
      },
      "outputs": [
        {
          "output_type": "stream",
          "name": "stdout",
          "text": [
            "[1, 2, 5, 6, 8, 9, 24]\n"
          ]
        },
        {
          "output_type": "execute_result",
          "data": {
            "text/plain": [
              "(None,)"
            ]
          },
          "metadata": {},
          "execution_count": 40
        }
      ],
      "source": [
        "li.insert(1,2)\n",
        "print(li),"
      ]
    },
    {
      "cell_type": "markdown",
      "metadata": {
        "id": "XE2y22BUxx3m"
      },
      "source": [
        "**Extend function**"
      ]
    },
    {
      "cell_type": "code",
      "execution_count": null,
      "metadata": {
        "colab": {
          "base_uri": "https://localhost:8080/"
        },
        "id": "Mtop08NOx91m",
        "outputId": "28483e42-00a5-4c45-f6ad-443830fb2ec8"
      },
      "outputs": [
        {
          "output_type": "stream",
          "name": "stdout",
          "text": [
            "[1, 2, 3, 4, 5, 6, 7, 8, 9, 10]\n",
            "55\n"
          ]
        }
      ],
      "source": [
        "ex1=[1,2,3,4,5]\n",
        "ex2=[6,7,8,9,10]\n",
        "ex1.extend(ex2)\n",
        "print(ex1)\n",
        "print(sum(ex1))"
      ]
    },
    {
      "cell_type": "code",
      "execution_count": null,
      "metadata": {
        "colab": {
          "base_uri": "https://localhost:8080/"
        },
        "id": "x8jycL50yOmJ",
        "outputId": "e697d185-d3aa-4e1e-cbfd-9ed93758a5f1"
      },
      "outputs": [
        {
          "output_type": "stream",
          "name": "stdout",
          "text": [
            "8\n",
            "6\n"
          ]
        }
      ],
      "source": [
        "x=6\n",
        "y=8\n",
        "\n",
        "x,y=y,x\n",
        "print(x)\n",
        "print(y)"
      ]
    },
    {
      "cell_type": "markdown",
      "metadata": {
        "id": "hm5fUb-iyfJo"
      },
      "source": [
        "**String**"
      ]
    },
    {
      "cell_type": "code",
      "execution_count": null,
      "metadata": {
        "colab": {
          "base_uri": "https://localhost:8080/"
        },
        "id": "qaKcprIIylVG",
        "outputId": "26c47188-b4fa-47ba-9c5e-28d5dfc1b6b0"
      },
      "outputs": [
        {
          "output_type": "stream",
          "name": "stdout",
          "text": [
            "4\n",
            "HELLO WORLD\n",
            "hello world\n",
            "Hello world\n"
          ]
        }
      ],
      "source": [
        "str='hello world'\n",
        "print(str.find('o'))\n",
        "print(str.upper())\n",
        "print(str.lower())\n",
        "print(str.capitalize())"
      ]
    },
    {
      "cell_type": "code",
      "execution_count": null,
      "metadata": {
        "colab": {
          "base_uri": "https://localhost:8080/"
        },
        "id": "xw-C5jQdy2O4",
        "outputId": "1a63aab1-40f6-4192-fac2-0f183dcd649f"
      },
      "outputs": [
        {
          "output_type": "execute_result",
          "data": {
            "text/plain": [
              "11"
            ]
          },
          "metadata": {},
          "execution_count": 44
        }
      ],
      "source": [
        "len(str)"
      ]
    },
    {
      "cell_type": "markdown",
      "metadata": {
        "id": "jzr_RZB2DV2E"
      },
      "source": [
        "**Day** **3**"
      ]
    },
    {
      "cell_type": "code",
      "execution_count": null,
      "metadata": {
        "id": "Hh3lpfAhDb_x"
      },
      "outputs": [],
      "source": [
        "#Tuple"
      ]
    },
    {
      "cell_type": "code",
      "execution_count": null,
      "metadata": {
        "colab": {
          "base_uri": "https://localhost:8080/",
          "height": 35
        },
        "id": "bozTZcrZDf6S",
        "outputId": "1c520dd4-fac5-409a-816c-97192b97abb5"
      },
      "outputs": [
        {
          "output_type": "execute_result",
          "data": {
            "text/plain": [
              "'purple'"
            ],
            "application/vnd.google.colaboratory.intrinsic+json": {
              "type": "string"
            }
          },
          "metadata": {},
          "execution_count": 46
        }
      ],
      "source": [
        "this1 = ('gray','green','black','white','purple')\n",
        "this1[4]"
      ]
    },
    {
      "cell_type": "code",
      "execution_count": null,
      "metadata": {
        "colab": {
          "base_uri": "https://localhost:8080/"
        },
        "id": "PG7kQGKREOwW",
        "outputId": "bb375cfd-aa85-45b6-8e28-a7c22e3f3417"
      },
      "outputs": [
        {
          "output_type": "stream",
          "name": "stdout",
          "text": [
            "(1, 2, 3, 4, 5, 6, 'a', 'b', 'c', 'd')\n"
          ]
        }
      ],
      "source": [
        "tuple1=(1,2,3,4,5,6)\n",
        "tuple2=('a','b','c','d')\n",
        "tuple3=tuple1+tuple2\n",
        "print(tuple3)"
      ]
    },
    {
      "cell_type": "code",
      "execution_count": null,
      "metadata": {
        "id": "HZFz122xE1NG"
      },
      "outputs": [],
      "source": [
        "# Tuple unpacking"
      ]
    },
    {
      "cell_type": "code",
      "execution_count": null,
      "metadata": {
        "id": "EwIKRZk_E6CG"
      },
      "outputs": [],
      "source": [
        "t1 = (\"s\",'m','n')\n",
        "a,b,c = t1\n",
        "print(a)\n",
        "print(b)\n",
        "print(c)"
      ]
    },
    {
      "cell_type": "code",
      "execution_count": null,
      "metadata": {
        "id": "-Mxo5bONFE2o"
      },
      "outputs": [],
      "source": [
        "#Dictionary\n",
        "dic={\"Name\":\"veena\",\"Age\":23}"
      ]
    },
    {
      "cell_type": "code",
      "execution_count": null,
      "metadata": {
        "id": "Lh48HalZFsMR"
      },
      "outputs": [],
      "source": [
        "#deleting the key\n",
        "del dic[\"Name\"]"
      ]
    },
    {
      "cell_type": "code",
      "execution_count": null,
      "metadata": {
        "id": "608WaE9iFxs0"
      },
      "outputs": [],
      "source": [
        "print(dic)"
      ]
    },
    {
      "cell_type": "code",
      "execution_count": null,
      "metadata": {
        "id": "CVG0e0sZF8V3"
      },
      "outputs": [],
      "source": [
        "dic[\"Number\"]=8956783345"
      ]
    },
    {
      "cell_type": "code",
      "execution_count": null,
      "metadata": {
        "id": "A19KDqE4GHOe"
      },
      "outputs": [],
      "source": [
        "dic[\"Name\"]=\"spoo\""
      ]
    },
    {
      "cell_type": "code",
      "execution_count": null,
      "metadata": {
        "id": "fjpKC9lYGNZG"
      },
      "outputs": [],
      "source": [
        "print(dic)"
      ]
    },
    {
      "cell_type": "code",
      "execution_count": null,
      "metadata": {
        "id": "QMmRhGSzGVVk"
      },
      "outputs": [],
      "source": [
        "dic.pop(\"Age\")"
      ]
    },
    {
      "cell_type": "code",
      "execution_count": null,
      "metadata": {
        "id": "wS2ITbIfGjW5"
      },
      "outputs": [],
      "source": [
        "print(dic)"
      ]
    },
    {
      "cell_type": "code",
      "execution_count": null,
      "metadata": {
        "id": "oACHWtmUGn5J"
      },
      "outputs": [],
      "source": [
        "temp=dict(textbook=\"python for data analytics\",author=\"wes McKinney\",year=2021)\n",
        "print(temp)"
      ]
    },
    {
      "cell_type": "code",
      "execution_count": null,
      "metadata": {
        "id": "xQVnF8cPJd6t"
      },
      "outputs": [],
      "source": [
        "#copying\n",
        "cp=dict(temp)\n",
        "print(cp)"
      ]
    },
    {
      "cell_type": "code",
      "execution_count": null,
      "metadata": {
        "id": "erY2RCyuJmC5"
      },
      "outputs": [],
      "source": [
        "#If conditional \n",
        "i=40\n",
        "if(i<50):\n",
        "  print(\"i is less than 50\")\n",
        "\n",
        "print(\"Iam not in if block\")"
      ]
    },
    {
      "cell_type": "code",
      "execution_count": null,
      "metadata": {
        "id": "HPRdUQ2qJ3bg"
      },
      "outputs": [],
      "source": [
        "i=40\n",
        "if(i<50):\n",
        "  print(\"i is less than 30\")\n",
        "\n",
        "print(\"Iam not in if block\")"
      ]
    },
    {
      "cell_type": "code",
      "execution_count": null,
      "metadata": {
        "id": "5trBoX1QKDRG"
      },
      "outputs": [],
      "source": [
        "string = 'parade'\n",
        "\n",
        "if string == 'parade':\n",
        "  print('hello')\n",
        "  string = string*3 #indentation error\n",
        "  print(string)"
      ]
    },
    {
      "cell_type": "code",
      "execution_count": null,
      "metadata": {
        "id": "6c7OfvZaKaJH"
      },
      "outputs": [],
      "source": [
        "#If else conditional \n",
        "i=40\n",
        "if (i<10):\n",
        "  print(\"i is smaller than 15\")\n",
        "  print(\"Iam in if block\")\n",
        "\n",
        "else:\n",
        "  print(\"i is greater or equal to 15\")\n",
        "  print(\"Iam in else block\")"
      ]
    },
    {
      "cell_type": "code",
      "execution_count": null,
      "metadata": {
        "id": "IGm0LnqqKvtL"
      },
      "outputs": [],
      "source": [
        "#Nested if-else conditional\n",
        "i=30\n",
        "if (i==40):\n",
        "  if(i<=10):\n",
        "    print(\"i is smaller than 10\")\n",
        "\n",
        "  if(i<12):\n",
        "    print(\"i is smaller than 9 too\")\n",
        "\n",
        "  else:\n",
        "    print(\"i is greater than 8\")\n",
        "\n",
        "else:\n",
        "  print(\"i is\")"
      ]
    },
    {
      "cell_type": "markdown",
      "source": [
        "**Day 4**"
      ],
      "metadata": {
        "id": "f9vsPgZcq2YU"
      }
    },
    {
      "cell_type": "code",
      "source": [
        "s=list(input())\n",
        "print(type(s))"
      ],
      "metadata": {
        "id": "uy7PcupYq7M_"
      },
      "execution_count": null,
      "outputs": []
    },
    {
      "cell_type": "code",
      "source": [
        "print(s)\n",
        "\n"
      ],
      "metadata": {
        "id": "8pwJkm8PrMBl"
      },
      "execution_count": null,
      "outputs": []
    },
    {
      "cell_type": "markdown",
      "source": [
        "**Day 5**"
      ],
      "metadata": {
        "id": "4c4qQeUorTwU"
      }
    },
    {
      "cell_type": "code",
      "source": [
        "questions = ['name','color','shape']\n",
        "answers = ['apple','red','a circle']\n",
        "for question, answer in zip(questions,answers):\n",
        "  print('What is your {0}? I am {1}.'.format(question,answer))"
      ],
      "metadata": {
        "id": "JK7sPfejrXPe"
      },
      "execution_count": null,
      "outputs": []
    },
    {
      "cell_type": "code",
      "source": [
        "l = list(input())\n",
        "type(l)\n",
        "a= l\n",
        "for i in a:\n",
        "  print(i)\n",
        "  print(type(i))"
      ],
      "metadata": {
        "id": "HHfQ1l4Wr-Q2"
      },
      "execution_count": null,
      "outputs": []
    },
    {
      "cell_type": "code",
      "source": [
        "n = input().split(' ')\n",
        "l = list(map(int,input().split(' ')))"
      ],
      "metadata": {
        "id": "7JBTkahwsFlu"
      },
      "execution_count": null,
      "outputs": []
    },
    {
      "cell_type": "code",
      "source": [
        "def sum(x): #user defined function\n",
        "  for i in x:\n",
        "    sum = sum + i\n",
        "    return sum"
      ],
      "metadata": {
        "id": "ZXBy0mAjsU8w"
      },
      "execution_count": null,
      "outputs": []
    },
    {
      "cell_type": "code",
      "source": [
        "#Function:\n",
        "  #statement"
      ],
      "metadata": {
        "id": "bb5oY9SPsdPa"
      },
      "execution_count": null,
      "outputs": []
    },
    {
      "cell_type": "code",
      "source": [
        "def eo(x):\n",
        "  if (x%2==0):\n",
        "    print('even')\n",
        "  else:\n",
        "    print('odd')"
      ],
      "metadata": {
        "id": "SFuzFCBxsh7n"
      },
      "execution_count": null,
      "outputs": []
    },
    {
      "cell_type": "code",
      "source": [
        "def square_value(num):\n",
        "  return num*2\n",
        "\n",
        "print(square_value(2))"
      ],
      "metadata": {
        "id": "VN7DvGoAssKA"
      },
      "execution_count": null,
      "outputs": []
    },
    {
      "cell_type": "markdown",
      "source": [
        "**Lambda function**"
      ],
      "metadata": {
        "id": "PUidE_zyR2wx"
      }
    },
    {
      "cell_type": "code",
      "source": [
        "#Lambda Functions\n",
        "lambda arguments: Expression"
      ],
      "metadata": {
        "id": "oRsW-Mp5R8GF"
      },
      "execution_count": null,
      "outputs": []
    },
    {
      "cell_type": "code",
      "source": [
        "x = lambda z: z + 5\n",
        "print(x(22))"
      ],
      "metadata": {
        "colab": {
          "base_uri": "https://localhost:8080/"
        },
        "id": "snUI6lO3SEA1",
        "outputId": "ad57a9ed-84c8-4a64-90b6-91f4b320e905"
      },
      "execution_count": null,
      "outputs": [
        {
          "output_type": "stream",
          "name": "stdout",
          "text": [
            "27\n"
          ]
        }
      ]
    },
    {
      "cell_type": "code",
      "source": [
        "def db(n):\n",
        "  return lambda x: x*n\n",
        "\n",
        "num_double = db(2)\n",
        "print(num_double(10))"
      ],
      "metadata": {
        "colab": {
          "base_uri": "https://localhost:8080/"
        },
        "id": "JFK9_YpPSSN3",
        "outputId": "ecf0db45-9061-4097-b140-44bb6cc7d203"
      },
      "execution_count": null,
      "outputs": [
        {
          "output_type": "stream",
          "name": "stdout",
          "text": [
            "20\n"
          ]
        }
      ]
    },
    {
      "cell_type": "code",
      "source": [
        "print('10','03','2022', sep='/')"
      ],
      "metadata": {
        "colab": {
          "base_uri": "https://localhost:8080/"
        },
        "id": "av0pX6ZlSZsg",
        "outputId": "f0b6c197-9277-4534-987a-2c0e783157da"
      },
      "execution_count": null,
      "outputs": [
        {
          "output_type": "stream",
          "name": "stdout",
          "text": [
            "10/03/2022\n"
          ]
        }
      ]
    },
    {
      "cell_type": "markdown",
      "source": [
        "**Day 6**"
      ],
      "metadata": {
        "id": "HWOdyA8lS17T"
      }
    },
    {
      "cell_type": "code",
      "source": [
        "! pip3 install pandas"
      ],
      "metadata": {
        "id": "DXWxgLji9voV"
      },
      "execution_count": null,
      "outputs": []
    },
    {
      "cell_type": "code",
      "source": [
        "!pip3 install numpy\n",
        "#Conda install numpy\n"
      ],
      "metadata": {
        "id": "XtaG-0T5AJT3"
      },
      "execution_count": null,
      "outputs": []
    },
    {
      "cell_type": "code",
      "source": [
        "s1=pd.Series([1,2,3,4,5,6,7])\n",
        "s2=pd.Series([1.1,2.2,3.3,4.4,5.5,6.6,7.7])\n",
        "s3=pd.Series(['a','b','c','d','e','f','g'])\n",
        "data={'first':s1,'second':s2,'third':s3}\n",
        "df=pd.DataFrame(data)\n",
        "print(df)\n",
        "#print(pd.DataFrame(s1))\n",
        "#print(pd.DataFrame(s2))\n",
        "#print(pd.DataFrame(s3))\n"
      ],
      "metadata": {
        "id": "8-rKYh1WQwOB"
      },
      "execution_count": null,
      "outputs": []
    },
    {
      "cell_type": "code",
      "source": [
        "df.to_csv('basic.csv')"
      ],
      "metadata": {
        "id": "hyjwdaYbSFl3"
      },
      "execution_count": null,
      "outputs": []
    },
    {
      "cell_type": "code",
      "source": [
        "a=pd.read_csv('basic.csv')\n",
        "print(a)\n"
      ],
      "metadata": {
        "id": "k2PjfdHBSTpr"
      },
      "execution_count": null,
      "outputs": []
    },
    {
      "cell_type": "code",
      "source": [
        "# Importing the library\n",
        "\n",
        "import pandas as pd\n",
        "import numpy as np"
      ],
      "metadata": {
        "id": "qC0RfFI4MkBh"
      },
      "execution_count": null,
      "outputs": []
    },
    {
      "cell_type": "code",
      "source": [
        "data = [1,2,3,4,45,6,7,'m']\n",
        "d = pd.Series(data)\n",
        "df = pd.DataFrame(d)\n",
        "print(df)"
      ],
      "metadata": {
        "id": "KMT5XGIEEZM4"
      },
      "execution_count": null,
      "outputs": []
    },
    {
      "cell_type": "code",
      "source": [
        "s = pd.Series([1,2,3,np.nan,8,9])\n",
        "print(s)"
      ],
      "metadata": {
        "id": "N8LmF4K4Mvpd"
      },
      "execution_count": null,
      "outputs": []
    },
    {
      "cell_type": "code",
      "source": [
        "d = pd.date_range('20220310', periods = 10)\n",
        "print(d)"
      ],
      "metadata": {
        "id": "7s5oNtjKM1wF"
      },
      "execution_count": null,
      "outputs": []
    },
    {
      "cell_type": "code",
      "source": [
        "df = pd.DataFrame({'A':[1,2,3,4],\n",
        "                   'B':pd.Timestamp('20220310'),\n",
        "                   'C':pd.Series(1,index = list(range(4))),\n",
        "                   'D': np.array([5]*4, dtype = 'int32'),\n",
        "                   'E': pd.Categorical(['test','train','train','test'])})"
      ],
      "metadata": {
        "id": "hHbBq5j3NBZt"
      },
      "execution_count": null,
      "outputs": []
    },
    {
      "cell_type": "code",
      "source": [
        "df"
      ],
      "metadata": {
        "id": "rLnqKFVNNI4g",
        "colab": {
          "base_uri": "https://localhost:8080/",
          "height": 174
        },
        "outputId": "f8850273-a2d4-43d1-c492-58e20c13d37a"
      },
      "execution_count": null,
      "outputs": [
        {
          "output_type": "execute_result",
          "data": {
            "text/plain": [
              "   A          B  C  D      E\n",
              "0  1 2022-03-10  1  5   test\n",
              "1  2 2022-03-10  1  5  train\n",
              "2  3 2022-03-10  1  5  train\n",
              "3  4 2022-03-10  1  5   test"
            ],
            "text/html": [
              "\n",
              "  <div id=\"df-d17d85c9-efad-4764-a755-8d949762caad\">\n",
              "    <div class=\"colab-df-container\">\n",
              "      <div>\n",
              "<style scoped>\n",
              "    .dataframe tbody tr th:only-of-type {\n",
              "        vertical-align: middle;\n",
              "    }\n",
              "\n",
              "    .dataframe tbody tr th {\n",
              "        vertical-align: top;\n",
              "    }\n",
              "\n",
              "    .dataframe thead th {\n",
              "        text-align: right;\n",
              "    }\n",
              "</style>\n",
              "<table border=\"1\" class=\"dataframe\">\n",
              "  <thead>\n",
              "    <tr style=\"text-align: right;\">\n",
              "      <th></th>\n",
              "      <th>A</th>\n",
              "      <th>B</th>\n",
              "      <th>C</th>\n",
              "      <th>D</th>\n",
              "      <th>E</th>\n",
              "    </tr>\n",
              "  </thead>\n",
              "  <tbody>\n",
              "    <tr>\n",
              "      <th>0</th>\n",
              "      <td>1</td>\n",
              "      <td>2022-03-10</td>\n",
              "      <td>1</td>\n",
              "      <td>5</td>\n",
              "      <td>test</td>\n",
              "    </tr>\n",
              "    <tr>\n",
              "      <th>1</th>\n",
              "      <td>2</td>\n",
              "      <td>2022-03-10</td>\n",
              "      <td>1</td>\n",
              "      <td>5</td>\n",
              "      <td>train</td>\n",
              "    </tr>\n",
              "    <tr>\n",
              "      <th>2</th>\n",
              "      <td>3</td>\n",
              "      <td>2022-03-10</td>\n",
              "      <td>1</td>\n",
              "      <td>5</td>\n",
              "      <td>train</td>\n",
              "    </tr>\n",
              "    <tr>\n",
              "      <th>3</th>\n",
              "      <td>4</td>\n",
              "      <td>2022-03-10</td>\n",
              "      <td>1</td>\n",
              "      <td>5</td>\n",
              "      <td>test</td>\n",
              "    </tr>\n",
              "  </tbody>\n",
              "</table>\n",
              "</div>\n",
              "      <button class=\"colab-df-convert\" onclick=\"convertToInteractive('df-d17d85c9-efad-4764-a755-8d949762caad')\"\n",
              "              title=\"Convert this dataframe to an interactive table.\"\n",
              "              style=\"display:none;\">\n",
              "        \n",
              "  <svg xmlns=\"http://www.w3.org/2000/svg\" height=\"24px\"viewBox=\"0 0 24 24\"\n",
              "       width=\"24px\">\n",
              "    <path d=\"M0 0h24v24H0V0z\" fill=\"none\"/>\n",
              "    <path d=\"M18.56 5.44l.94 2.06.94-2.06 2.06-.94-2.06-.94-.94-2.06-.94 2.06-2.06.94zm-11 1L8.5 8.5l.94-2.06 2.06-.94-2.06-.94L8.5 2.5l-.94 2.06-2.06.94zm10 10l.94 2.06.94-2.06 2.06-.94-2.06-.94-.94-2.06-.94 2.06-2.06.94z\"/><path d=\"M17.41 7.96l-1.37-1.37c-.4-.4-.92-.59-1.43-.59-.52 0-1.04.2-1.43.59L10.3 9.45l-7.72 7.72c-.78.78-.78 2.05 0 2.83L4 21.41c.39.39.9.59 1.41.59.51 0 1.02-.2 1.41-.59l7.78-7.78 2.81-2.81c.8-.78.8-2.07 0-2.86zM5.41 20L4 18.59l7.72-7.72 1.47 1.35L5.41 20z\"/>\n",
              "  </svg>\n",
              "      </button>\n",
              "      \n",
              "  <style>\n",
              "    .colab-df-container {\n",
              "      display:flex;\n",
              "      flex-wrap:wrap;\n",
              "      gap: 12px;\n",
              "    }\n",
              "\n",
              "    .colab-df-convert {\n",
              "      background-color: #E8F0FE;\n",
              "      border: none;\n",
              "      border-radius: 50%;\n",
              "      cursor: pointer;\n",
              "      display: none;\n",
              "      fill: #1967D2;\n",
              "      height: 32px;\n",
              "      padding: 0 0 0 0;\n",
              "      width: 32px;\n",
              "    }\n",
              "\n",
              "    .colab-df-convert:hover {\n",
              "      background-color: #E2EBFA;\n",
              "      box-shadow: 0px 1px 2px rgba(60, 64, 67, 0.3), 0px 1px 3px 1px rgba(60, 64, 67, 0.15);\n",
              "      fill: #174EA6;\n",
              "    }\n",
              "\n",
              "    [theme=dark] .colab-df-convert {\n",
              "      background-color: #3B4455;\n",
              "      fill: #D2E3FC;\n",
              "    }\n",
              "\n",
              "    [theme=dark] .colab-df-convert:hover {\n",
              "      background-color: #434B5C;\n",
              "      box-shadow: 0px 1px 3px 1px rgba(0, 0, 0, 0.15);\n",
              "      filter: drop-shadow(0px 1px 2px rgba(0, 0, 0, 0.3));\n",
              "      fill: #FFFFFF;\n",
              "    }\n",
              "  </style>\n",
              "\n",
              "      <script>\n",
              "        const buttonEl =\n",
              "          document.querySelector('#df-d17d85c9-efad-4764-a755-8d949762caad button.colab-df-convert');\n",
              "        buttonEl.style.display =\n",
              "          google.colab.kernel.accessAllowed ? 'block' : 'none';\n",
              "\n",
              "        async function convertToInteractive(key) {\n",
              "          const element = document.querySelector('#df-d17d85c9-efad-4764-a755-8d949762caad');\n",
              "          const dataTable =\n",
              "            await google.colab.kernel.invokeFunction('convertToInteractive',\n",
              "                                                     [key], {});\n",
              "          if (!dataTable) return;\n",
              "\n",
              "          const docLinkHtml = 'Like what you see? Visit the ' +\n",
              "            '<a target=\"_blank\" href=https://colab.research.google.com/notebooks/data_table.ipynb>data table notebook</a>'\n",
              "            + ' to learn more about interactive tables.';\n",
              "          element.innerHTML = '';\n",
              "          dataTable['output_type'] = 'display_data';\n",
              "          await google.colab.output.renderOutput(dataTable, element);\n",
              "          const docLink = document.createElement('div');\n",
              "          docLink.innerHTML = docLinkHtml;\n",
              "          element.appendChild(docLink);\n",
              "        }\n",
              "      </script>\n",
              "    </div>\n",
              "  </div>\n",
              "  "
            ]
          },
          "metadata": {},
          "execution_count": 49
        }
      ]
    },
    {
      "cell_type": "code",
      "source": [
        "type(df)"
      ],
      "metadata": {
        "id": "8OdGm65xNOeC",
        "colab": {
          "base_uri": "https://localhost:8080/"
        },
        "outputId": "43b933cb-7f62-473d-f286-4f3036459618"
      },
      "execution_count": null,
      "outputs": [
        {
          "output_type": "execute_result",
          "data": {
            "text/plain": [
              "pandas.core.frame.DataFrame"
            ]
          },
          "metadata": {},
          "execution_count": 50
        }
      ]
    },
    {
      "cell_type": "code",
      "source": [
        "df.dtypes"
      ],
      "metadata": {
        "id": "0p_sEevENUPh",
        "colab": {
          "base_uri": "https://localhost:8080/"
        },
        "outputId": "d833188d-65e2-43ee-8a50-acba51855910"
      },
      "execution_count": null,
      "outputs": [
        {
          "output_type": "execute_result",
          "data": {
            "text/plain": [
              "A             int64\n",
              "B    datetime64[ns]\n",
              "C             int64\n",
              "D             int32\n",
              "E          category\n",
              "dtype: object"
            ]
          },
          "metadata": {},
          "execution_count": 51
        }
      ]
    },
    {
      "cell_type": "code",
      "source": [
        "df.head()"
      ],
      "metadata": {
        "id": "V4Mf7ktkNZib",
        "colab": {
          "base_uri": "https://localhost:8080/",
          "height": 174
        },
        "outputId": "a23717b3-37c2-4e70-fdfe-a3a1842613f1"
      },
      "execution_count": null,
      "outputs": [
        {
          "output_type": "execute_result",
          "data": {
            "text/plain": [
              "   A          B  C  D      E\n",
              "0  1 2022-03-10  1  5   test\n",
              "1  2 2022-03-10  1  5  train\n",
              "2  3 2022-03-10  1  5  train\n",
              "3  4 2022-03-10  1  5   test"
            ],
            "text/html": [
              "\n",
              "  <div id=\"df-70a28f3f-a2d6-44da-8859-2d1ea8d47408\">\n",
              "    <div class=\"colab-df-container\">\n",
              "      <div>\n",
              "<style scoped>\n",
              "    .dataframe tbody tr th:only-of-type {\n",
              "        vertical-align: middle;\n",
              "    }\n",
              "\n",
              "    .dataframe tbody tr th {\n",
              "        vertical-align: top;\n",
              "    }\n",
              "\n",
              "    .dataframe thead th {\n",
              "        text-align: right;\n",
              "    }\n",
              "</style>\n",
              "<table border=\"1\" class=\"dataframe\">\n",
              "  <thead>\n",
              "    <tr style=\"text-align: right;\">\n",
              "      <th></th>\n",
              "      <th>A</th>\n",
              "      <th>B</th>\n",
              "      <th>C</th>\n",
              "      <th>D</th>\n",
              "      <th>E</th>\n",
              "    </tr>\n",
              "  </thead>\n",
              "  <tbody>\n",
              "    <tr>\n",
              "      <th>0</th>\n",
              "      <td>1</td>\n",
              "      <td>2022-03-10</td>\n",
              "      <td>1</td>\n",
              "      <td>5</td>\n",
              "      <td>test</td>\n",
              "    </tr>\n",
              "    <tr>\n",
              "      <th>1</th>\n",
              "      <td>2</td>\n",
              "      <td>2022-03-10</td>\n",
              "      <td>1</td>\n",
              "      <td>5</td>\n",
              "      <td>train</td>\n",
              "    </tr>\n",
              "    <tr>\n",
              "      <th>2</th>\n",
              "      <td>3</td>\n",
              "      <td>2022-03-10</td>\n",
              "      <td>1</td>\n",
              "      <td>5</td>\n",
              "      <td>train</td>\n",
              "    </tr>\n",
              "    <tr>\n",
              "      <th>3</th>\n",
              "      <td>4</td>\n",
              "      <td>2022-03-10</td>\n",
              "      <td>1</td>\n",
              "      <td>5</td>\n",
              "      <td>test</td>\n",
              "    </tr>\n",
              "  </tbody>\n",
              "</table>\n",
              "</div>\n",
              "      <button class=\"colab-df-convert\" onclick=\"convertToInteractive('df-70a28f3f-a2d6-44da-8859-2d1ea8d47408')\"\n",
              "              title=\"Convert this dataframe to an interactive table.\"\n",
              "              style=\"display:none;\">\n",
              "        \n",
              "  <svg xmlns=\"http://www.w3.org/2000/svg\" height=\"24px\"viewBox=\"0 0 24 24\"\n",
              "       width=\"24px\">\n",
              "    <path d=\"M0 0h24v24H0V0z\" fill=\"none\"/>\n",
              "    <path d=\"M18.56 5.44l.94 2.06.94-2.06 2.06-.94-2.06-.94-.94-2.06-.94 2.06-2.06.94zm-11 1L8.5 8.5l.94-2.06 2.06-.94-2.06-.94L8.5 2.5l-.94 2.06-2.06.94zm10 10l.94 2.06.94-2.06 2.06-.94-2.06-.94-.94-2.06-.94 2.06-2.06.94z\"/><path d=\"M17.41 7.96l-1.37-1.37c-.4-.4-.92-.59-1.43-.59-.52 0-1.04.2-1.43.59L10.3 9.45l-7.72 7.72c-.78.78-.78 2.05 0 2.83L4 21.41c.39.39.9.59 1.41.59.51 0 1.02-.2 1.41-.59l7.78-7.78 2.81-2.81c.8-.78.8-2.07 0-2.86zM5.41 20L4 18.59l7.72-7.72 1.47 1.35L5.41 20z\"/>\n",
              "  </svg>\n",
              "      </button>\n",
              "      \n",
              "  <style>\n",
              "    .colab-df-container {\n",
              "      display:flex;\n",
              "      flex-wrap:wrap;\n",
              "      gap: 12px;\n",
              "    }\n",
              "\n",
              "    .colab-df-convert {\n",
              "      background-color: #E8F0FE;\n",
              "      border: none;\n",
              "      border-radius: 50%;\n",
              "      cursor: pointer;\n",
              "      display: none;\n",
              "      fill: #1967D2;\n",
              "      height: 32px;\n",
              "      padding: 0 0 0 0;\n",
              "      width: 32px;\n",
              "    }\n",
              "\n",
              "    .colab-df-convert:hover {\n",
              "      background-color: #E2EBFA;\n",
              "      box-shadow: 0px 1px 2px rgba(60, 64, 67, 0.3), 0px 1px 3px 1px rgba(60, 64, 67, 0.15);\n",
              "      fill: #174EA6;\n",
              "    }\n",
              "\n",
              "    [theme=dark] .colab-df-convert {\n",
              "      background-color: #3B4455;\n",
              "      fill: #D2E3FC;\n",
              "    }\n",
              "\n",
              "    [theme=dark] .colab-df-convert:hover {\n",
              "      background-color: #434B5C;\n",
              "      box-shadow: 0px 1px 3px 1px rgba(0, 0, 0, 0.15);\n",
              "      filter: drop-shadow(0px 1px 2px rgba(0, 0, 0, 0.3));\n",
              "      fill: #FFFFFF;\n",
              "    }\n",
              "  </style>\n",
              "\n",
              "      <script>\n",
              "        const buttonEl =\n",
              "          document.querySelector('#df-70a28f3f-a2d6-44da-8859-2d1ea8d47408 button.colab-df-convert');\n",
              "        buttonEl.style.display =\n",
              "          google.colab.kernel.accessAllowed ? 'block' : 'none';\n",
              "\n",
              "        async function convertToInteractive(key) {\n",
              "          const element = document.querySelector('#df-70a28f3f-a2d6-44da-8859-2d1ea8d47408');\n",
              "          const dataTable =\n",
              "            await google.colab.kernel.invokeFunction('convertToInteractive',\n",
              "                                                     [key], {});\n",
              "          if (!dataTable) return;\n",
              "\n",
              "          const docLinkHtml = 'Like what you see? Visit the ' +\n",
              "            '<a target=\"_blank\" href=https://colab.research.google.com/notebooks/data_table.ipynb>data table notebook</a>'\n",
              "            + ' to learn more about interactive tables.';\n",
              "          element.innerHTML = '';\n",
              "          dataTable['output_type'] = 'display_data';\n",
              "          await google.colab.output.renderOutput(dataTable, element);\n",
              "          const docLink = document.createElement('div');\n",
              "          docLink.innerHTML = docLinkHtml;\n",
              "          element.appendChild(docLink);\n",
              "        }\n",
              "      </script>\n",
              "    </div>\n",
              "  </div>\n",
              "  "
            ]
          },
          "metadata": {},
          "execution_count": 52
        }
      ]
    },
    {
      "cell_type": "code",
      "source": [
        "df.tail(2)"
      ],
      "metadata": {
        "id": "QfTOGIVMNk7-"
      },
      "execution_count": null,
      "outputs": []
    },
    {
      "cell_type": "code",
      "source": [
        "df.to_numpy()"
      ],
      "metadata": {
        "id": "KrDMXoHjNpXA"
      },
      "execution_count": null,
      "outputs": []
    },
    {
      "cell_type": "code",
      "source": [
        "df.index"
      ],
      "metadata": {
        "id": "MYyALjf3Nup8"
      },
      "execution_count": null,
      "outputs": []
    },
    {
      "cell_type": "code",
      "source": [
        "df.columns"
      ],
      "metadata": {
        "id": "dypMJ3IRNzER"
      },
      "execution_count": null,
      "outputs": []
    },
    {
      "cell_type": "code",
      "source": [
        "df.describe()"
      ],
      "metadata": {
        "id": "j6O02xvUN56t"
      },
      "execution_count": null,
      "outputs": []
    },
    {
      "cell_type": "code",
      "source": [
        "df.sort_index(axis = 1, ascending = False)"
      ],
      "metadata": {
        "id": "YJQBuI5ZOCkt"
      },
      "execution_count": null,
      "outputs": []
    },
    {
      "cell_type": "code",
      "source": [
        "df.sort_values(by = 'A')"
      ],
      "metadata": {
        "id": "GbbZpEpnOH9E"
      },
      "execution_count": null,
      "outputs": []
    },
    {
      "cell_type": "code",
      "source": [
        "df['C']"
      ],
      "metadata": {
        "id": "mHNu1FZCOWIE"
      },
      "execution_count": null,
      "outputs": []
    },
    {
      "cell_type": "code",
      "source": [
        "df[0:3]"
      ],
      "metadata": {
        "id": "j762tG8rOant"
      },
      "execution_count": null,
      "outputs": []
    },
    {
      "cell_type": "code",
      "source": [
        "#From label\n",
        "df.loc[:,['A','C']]"
      ],
      "metadata": {
        "id": "X1nSNSEYPIc5"
      },
      "execution_count": null,
      "outputs": []
    },
    {
      "cell_type": "code",
      "source": [
        "# From Position \n",
        "\n",
        "df.iloc[3]"
      ],
      "metadata": {
        "id": "Zb9xVXsrPQnI"
      },
      "execution_count": null,
      "outputs": []
    },
    {
      "cell_type": "code",
      "source": [
        "df.iloc[0:2,3:5]"
      ],
      "metadata": {
        "id": "_Pv_NvhYPbgp"
      },
      "execution_count": null,
      "outputs": []
    },
    {
      "cell_type": "code",
      "source": [
        "df[df['A'] >2]"
      ],
      "metadata": {
        "id": "TEyFcyE0Pl__"
      },
      "execution_count": null,
      "outputs": []
    },
    {
      "cell_type": "code",
      "source": [
        "df.mean()"
      ],
      "metadata": {
        "id": "s5roM6mAJVmp",
        "colab": {
          "base_uri": "https://localhost:8080/"
        },
        "outputId": "e0f657cd-cebe-4bc9-ce5d-163a35d5f171"
      },
      "execution_count": null,
      "outputs": [
        {
          "output_type": "stream",
          "name": "stderr",
          "text": [
            "/usr/local/lib/python3.7/dist-packages/ipykernel_launcher.py:1: FutureWarning: DataFrame.mean and DataFrame.median with numeric_only=None will include datetime64 and datetime64tz columns in a future version.\n",
            "  \"\"\"Entry point for launching an IPython kernel.\n",
            "/usr/local/lib/python3.7/dist-packages/ipykernel_launcher.py:1: FutureWarning: Dropping of nuisance columns in DataFrame reductions (with 'numeric_only=None') is deprecated; in a future version this will raise TypeError.  Select only valid columns before calling the reduction.\n",
            "  \"\"\"Entry point for launching an IPython kernel.\n"
          ]
        },
        {
          "output_type": "execute_result",
          "data": {
            "text/plain": [
              "A    2.5\n",
              "C    1.0\n",
              "D    5.0\n",
              "dtype: float64"
            ]
          },
          "metadata": {},
          "execution_count": 55
        }
      ]
    },
    {
      "cell_type": "code",
      "source": [
        "df = pd.Series([1,2,3,np.nan,4,5]).shift(2)"
      ],
      "metadata": {
        "id": "2l1OIgsTQnoX"
      },
      "execution_count": null,
      "outputs": []
    },
    {
      "cell_type": "code",
      "source": [
        "df"
      ],
      "metadata": {
        "colab": {
          "base_uri": "https://localhost:8080/"
        },
        "id": "oAP0iJ4LQtUc",
        "outputId": "be887ed6-94eb-45db-da6f-41934483c906"
      },
      "execution_count": null,
      "outputs": [
        {
          "output_type": "execute_result",
          "data": {
            "text/plain": [
              "0    NaN\n",
              "1    NaN\n",
              "2    1.0\n",
              "3    2.0\n",
              "4    3.0\n",
              "5    NaN\n",
              "dtype: float64"
            ]
          },
          "metadata": {},
          "execution_count": 60
        }
      ]
    },
    {
      "cell_type": "code",
      "source": [
        "df.value_counts()"
      ],
      "metadata": {
        "colab": {
          "base_uri": "https://localhost:8080/"
        },
        "id": "W6Tfidf2Qwk-",
        "outputId": "836c8767-6027-4618-f197-93a73fde50ba"
      },
      "execution_count": null,
      "outputs": [
        {
          "output_type": "execute_result",
          "data": {
            "text/plain": [
              "1.0    1\n",
              "2.0    1\n",
              "3.0    1\n",
              "dtype: int64"
            ]
          },
          "metadata": {},
          "execution_count": 61
        }
      ]
    },
    {
      "cell_type": "code",
      "source": [
        "s = pd.Series(['education','python','jupyter',np.nan])\n",
        "\n"
      ],
      "metadata": {
        "id": "G2BxDYk_Q4__"
      },
      "execution_count": null,
      "outputs": []
    },
    {
      "cell_type": "code",
      "source": [
        "!pip install matplotlib"
      ],
      "metadata": {
        "colab": {
          "base_uri": "https://localhost:8080/"
        },
        "id": "Jy0kt1mW8g-L",
        "outputId": "549ac794-2fad-4484-ed48-6c8b0c25d9ad"
      },
      "execution_count": 5,
      "outputs": [
        {
          "output_type": "stream",
          "name": "stdout",
          "text": [
            "Requirement already satisfied: matplotlib in /usr/local/lib/python3.7/dist-packages (3.2.2)\n",
            "Requirement already satisfied: numpy>=1.11 in /usr/local/lib/python3.7/dist-packages (from matplotlib) (1.21.5)\n",
            "Requirement already satisfied: pyparsing!=2.0.4,!=2.1.2,!=2.1.6,>=2.0.1 in /usr/local/lib/python3.7/dist-packages (from matplotlib) (3.0.7)\n",
            "Requirement already satisfied: cycler>=0.10 in /usr/local/lib/python3.7/dist-packages (from matplotlib) (0.11.0)\n",
            "Requirement already satisfied: python-dateutil>=2.1 in /usr/local/lib/python3.7/dist-packages (from matplotlib) (2.8.2)\n",
            "Requirement already satisfied: kiwisolver>=1.0.1 in /usr/local/lib/python3.7/dist-packages (from matplotlib) (1.4.0)\n",
            "Requirement already satisfied: typing-extensions in /usr/local/lib/python3.7/dist-packages (from kiwisolver>=1.0.1->matplotlib) (3.10.0.2)\n",
            "Requirement already satisfied: six>=1.5 in /usr/local/lib/python3.7/dist-packages (from python-dateutil>=2.1->matplotlib) (1.15.0)\n"
          ]
        }
      ]
    },
    {
      "cell_type": "code",
      "source": [
        "import numpy as np\n",
        "import matplotlib.pyplot as plt"
      ],
      "metadata": {
        "id": "Gx7YDxVL8mij"
      },
      "execution_count": 6,
      "outputs": []
    },
    {
      "cell_type": "code",
      "source": [
        "#simple line plot\n",
        "x = [2017,2018,2019,2020,2021]\n",
        "y = [222,566,445,333,348]\n",
        "plt.plot(x,y)"
      ],
      "metadata": {
        "colab": {
          "base_uri": "https://localhost:8080/",
          "height": 282
        },
        "id": "1dGqWV0A8r22",
        "outputId": "eb48d371-e745-49d1-90b4-54a488bf7f71"
      },
      "execution_count": 7,
      "outputs": [
        {
          "output_type": "execute_result",
          "data": {
            "text/plain": [
              "[<matplotlib.lines.Line2D at 0x7fb66abcc590>]"
            ]
          },
          "metadata": {},
          "execution_count": 7
        },
        {
          "output_type": "display_data",
          "data": {
            "text/plain": [
              "<Figure size 432x288 with 1 Axes>"
            ],
            "image/png": "[encoded data removed]"
          },
          "metadata": {
            "needs_background": "light"
          }
        }
      ]
    },
    {
      "cell_type": "code",
      "source": [
        "#line plot with colors,labels,title,and saving the obtained graph\n",
        "years = [1960,1965,1970,1975,1980,1985,1990,1995,2000,2005,2010,2015,2020]\n",
        "popu = [1.7,2.5,3.5,4.5,2.6,3.7,5.8,6.9,4.5,5.7,3.4,2.7,1.9]\n",
        "plt.plot(years,popu, color = 'orange')\n",
        "plt.ylabel(\"population in billions\")\n",
        "plt.xlabel('Population Growth by year')\n",
        "plt.title('Population Growth')\n",
        "plt.savefig('a.png')"
      ],
      "metadata": {
        "colab": {
          "base_uri": "https://localhost:8080/",
          "height": 295
        },
        "id": "6K7xByJ2871W",
        "outputId": "49bd2c28-f10f-4902-d1ac-4343cd0b96bc"
      },
      "execution_count": 8,
      "outputs": [
        {
          "output_type": "display_data",
          "data": {
            "text/plain": [
              "<Figure size 432x288 with 1 Axes>"
            ],
            "image/png": "[encoded data removed]"
          },
          "metadata": {
            "needs_background": "light"
          }
        }
      ]
    },
    {
      "cell_type": "code",
      "source": [
        "#line plot with different markers\n",
        "years = [1960,1965,1970,1975,1980,1985,1990,1995,2000,2005,2010,2015,2020]\n",
        "popu = [1.7,2.5,3.5,3.1,2.6,3.7,3.8,2.9,4.5,2.7,3.4,2.7,1.3]\n",
        "death = [1.2,3.4,2.2,2.9,1.6,4.1,1.3,3.5,3.1,2.3,1.8,1.1,1.4]\n",
        "plt.plot(years,popu,'.',color = 'green',label = 'Birth by year')\n",
        "plt.plot(years,death,color = 'red',label = 'Death by year')\n",
        "plt.ylabel(\"Population in billions\")\n",
        "plt.xlabel('Population stat by year')\n",
        "plt.title('Population Growth')\n",
        "plt.legend()"
      ],
      "metadata": {
        "colab": {
          "base_uri": "https://localhost:8080/",
          "height": 312
        },
        "id": "K6QFPqAZ9DQv",
        "outputId": "5b919caa-8b49-450d-c48c-24b230d9e3fd"
      },
      "execution_count": 9,
      "outputs": [
        {
          "output_type": "execute_result",
          "data": {
            "text/plain": [
              "<matplotlib.legend.Legend at 0x7fb66a69a750>"
            ]
          },
          "metadata": {},
          "execution_count": 9
        },
        {
          "output_type": "display_data",
          "data": {
            "text/plain": [
              "<Figure size 432x288 with 1 Axes>"
            ],
            "image/png": "[encoded data removed]"
          },
          "metadata": {
            "needs_background": "light"
          }
        }
      ]
    },
    {
      "cell_type": "code",
      "source": [
        "#ploting with showing grid and different marker setup\n",
        "years = [1960,1965,1970,1975,1980,1985,1990,1995,2000,2005,2010,2015,2020]\n",
        "popu = [1.7,2.5,3.5,3.1,2.6,3.7,3.8,2.9,4.5,2.7,3.4,2.7,1.3]\n",
        "death = [1.2,3.4,2.2,2.9,1.6,4.1,1.3,3.5,3.1,2.3,1.8,1.1,1.4]\n",
        "lines = plt.plot(years,popu,years,death)\n",
        "plt.grid()\n",
        "plt.setp(lines,color = 'purple',marker = '*')"
      ],
      "metadata": {
        "colab": {
          "base_uri": "https://localhost:8080/",
          "height": 282
        },
        "id": "YoTnbLkE9Lz2",
        "outputId": "2b4947e0-aac3-4e90-dd7d-c90b40eace73"
      },
      "execution_count": 10,
      "outputs": [
        {
          "output_type": "execute_result",
          "data": {
            "text/plain": [
              "[None, None, None, None]"
            ]
          },
          "metadata": {},
          "execution_count": 10
        },
        {
          "output_type": "display_data",
          "data": {
            "text/plain": [
              "<Figure size 432x288 with 1 Axes>"
            ],
            "image/png": "[encoded data removed]"
          },
          "metadata": {
            "needs_background": "light"
          }
        }
      ]
    },
    {
      "cell_type": "code",
      "source": [
        "#pie chart\n",
        "labels = ['Python','Ruby','Java', 'PHP','C#','C']\n",
        "sizes = [23,34,12,17,40,42]\n",
        "plt.pie(sizes, labels = labels, autopct = '%1.1f%%')\n",
        "plt.axis('equal')"
      ],
      "metadata": {
        "colab": {
          "base_uri": "https://localhost:8080/",
          "height": 322
        },
        "id": "seUXkbO69R0K",
        "outputId": "105e33ff-13db-47c3-8109-0f9103780789"
      },
      "execution_count": 11,
      "outputs": [
        {
          "output_type": "execute_result",
          "data": {
            "text/plain": [
              "(-1.105396280542507,\n",
              " 1.1002569787420327,\n",
              " -1.1006586972546981,\n",
              " 1.1138323826084031)"
            ]
          },
          "metadata": {},
          "execution_count": 11
        },
        {
          "output_type": "display_data",
          "data": {
            "text/plain": [
              "<Figure size 432x288 with 1 Axes>"
            ],
            "image/png": "[encoded data removed]"
          },
          "metadata": {}
        }
      ]
    },
    {
      "cell_type": "code",
      "source": [
        "import pandas as pd\n",
        "raw_data = {'names':['Nick','Sani','John','Rubi','Maya'],\n",
        "            'jan_ir':[123,124,125,126,128],\n",
        "            'feb_ir':[23,24,25,27,29],\n",
        "            'March_ir':[3,5,7,6,9]}\n",
        "df = pd.DataFrame(raw_data,columns = ['names','jan_ir','feb_ir','March_ir'])"
      ],
      "metadata": {
        "id": "jyY2Xp089cxD"
      },
      "execution_count": 12,
      "outputs": []
    },
    {
      "cell_type": "code",
      "source": [
        "#create a pie chart of total_ir and labels should be the names\n",
        "#for total_ir which is a sum of jan_ir feb_ir and march_ir and total_ir will be the value \n",
        "#plot pie chart using total_ir column and label as names column\n",
        "df['Total_ir'] = df['jan_ir'] + df['feb_ir'] + df['March_ir']"
      ],
      "metadata": {
        "id": "exI-4bsi9kdV"
      },
      "execution_count": 13,
      "outputs": []
    },
    {
      "cell_type": "code",
      "source": [
        "plt.pie(df['Total_ir'],labels = df['names'],autopct = '%1.1f%%')\n",
        "plt.axis('equal')"
      ],
      "metadata": {
        "colab": {
          "base_uri": "https://localhost:8080/",
          "height": 318
        },
        "id": "_hbTV26Q9o2p",
        "outputId": "cd61fae3-2b7f-43a7-ef97-07697909369b"
      },
      "execution_count": 14,
      "outputs": [
        {
          "output_type": "execute_result",
          "data": {
            "text/plain": [
              "(-1.1159743485000206,\n",
              " 1.1007606832619057,\n",
              " -1.1243635581140636,\n",
              " 1.122553758233166)"
            ]
          },
          "metadata": {},
          "execution_count": 14
        },
        {
          "output_type": "display_data",
          "data": {
            "text/plain": [
              "<Figure size 432x288 with 1 Axes>"
            ],
            "image/png": "[encoded data removed]"
          },
          "metadata": {}
        }
      ]
    },
    {
      "cell_type": "code",
      "source": [
        "#bar plot with bar width, alpha and labels\n",
        "#alpha-transperency of bars\n",
        "#ticks are markers\n",
        "korea_scores = (511,523,539)\n",
        "canada_scores = (526,553,513)\n",
        "china_scores = (441,525,543)\n",
        "france_scores = (450,537,577)\n",
        "index = np.arange(3)\n",
        "bar_width = 0.2\n",
        "k1 = plt.bar(index,korea_scores,bar_width,alpha = 0.9,label='Korea')\n",
        "k2 = plt.bar(index+bar_width,canada_scores,bar_width,alpha = 0.9,label='Canada')\n",
        "k3 = plt.bar(index+bar_width*2,china_scores,bar_width,alpha = 0.9,label='China')\n",
        "k4 = plt.bar(index+bar_width*3,france_scores,bar_width,alpha = 0.9,label='France')\n",
        "plt.xticks(index+.3,('Maths','Reading','Science'))\n",
        "plt.ylabel('Mean scores in PISA 2021')\n",
        "plt.xlabel('Subjects')\n",
        "plt.title('Test scores by Country')\n",
        "plt.grid(True)\n",
        "plt.legend()"
      ],
      "metadata": {
        "colab": {
          "base_uri": "https://localhost:8080/",
          "height": 312
        },
        "id": "rom7covT9r0c",
        "outputId": "03f5de79-9884-4223-e1cc-e2698a77fbc3"
      },
      "execution_count": 15,
      "outputs": [
        {
          "output_type": "execute_result",
          "data": {
            "text/plain": [
              "<matplotlib.legend.Legend at 0x7fb6640fa9d0>"
            ]
          },
          "metadata": {},
          "execution_count": 15
        },
        {
          "output_type": "display_data",
          "data": {
            "text/plain": [
              "<Figure size 432x288 with 1 Axes>"
            ],
            "image/png": "[encoded data removed]"
          },
          "metadata": {
            "needs_background": "light"
          }
        }
      ]
    },
    {
      "cell_type": "code",
      "source": [
        "plt.bar([1,3,5,7,9],[6,3,1,9,2], label = 'one')\n",
        "plt.bar([2,4,26,8,10],[8,6,2,5,6],label = 'two',color = 'green')\n",
        "plt.ylabel('bar width')\n",
        "plt.xlabel('bar number')\n",
        "plt.title('Epic graph')\n",
        "plt.legend()"
      ],
      "metadata": {
        "colab": {
          "base_uri": "https://localhost:8080/",
          "height": 312
        },
        "id": "zuh8EVXd910S",
        "outputId": "57a1dc80-671b-4d5e-a48b-bc4a7ee04401"
      },
      "execution_count": 16,
      "outputs": [
        {
          "output_type": "execute_result",
          "data": {
            "text/plain": [
              "<matplotlib.legend.Legend at 0x7fb6641190d0>"
            ]
          },
          "metadata": {},
          "execution_count": 16
        },
        {
          "output_type": "display_data",
          "data": {
            "text/plain": [
              "<Figure size 432x288 with 1 Axes>"
            ],
            "image/png": "[encoded data removed]"
          },
          "metadata": {
            "needs_background": "light"
          }
        }
      ]
    },
    {
      "cell_type": "code",
      "source": [
        "#histogram with bins\n",
        "#bins- divides up the data into required category\n",
        "popu_ages = [11,21,32,45,105,120,132,344,234,344,111,45,66,76,45,288,77,377,570,53]\n",
        "bins = [10,30,60,90,130,160,190,230,260,290]\n",
        "plt.hist(popu_ages,bins,color = 'blue')"
      ],
      "metadata": {
        "colab": {
          "base_uri": "https://localhost:8080/",
          "height": 317
        },
        "id": "SfAiRYe498NW",
        "outputId": "08a1b18d-083c-4e58-a792-6ac1b350f8e2"
      },
      "execution_count": 17,
      "outputs": [
        {
          "output_type": "execute_result",
          "data": {
            "text/plain": [
              "(array([2., 5., 3., 3., 1., 0., 0., 1., 1.]),\n",
              " array([ 10,  30,  60,  90, 130, 160, 190, 230, 260, 290]),\n",
              " <a list of 9 Patch objects>)"
            ]
          },
          "metadata": {},
          "execution_count": 17
        },
        {
          "output_type": "display_data",
          "data": {
            "text/plain": [
              "<Figure size 432x288 with 1 Axes>"
            ],
            "image/png": "[encoded data removed]"
          },
          "metadata": {
            "needs_background": "light"
          }
        }
      ]
    },
    {
      "cell_type": "code",
      "source": [
        "#scatter plot - each value in dataset is represented by a dot\n",
        "m = [1,3,5,7,9,11,15]\n",
        "n = [2,4,1,8,3,12,1]\n",
        "plt.scatter(m,n,label = 'Satter plot',color = 'b')\n",
        "plt.xlabel('m')\n",
        "plt.ylabel('n')\n",
        "plt.title('Scatter')\n",
        "plt.legend()"
      ],
      "metadata": {
        "colab": {
          "base_uri": "https://localhost:8080/",
          "height": 312
        },
        "id": "yc1vz-HG-I9t",
        "outputId": "c94c0c19-f62c-4ad0-d069-9e832accd873"
      },
      "execution_count": 18,
      "outputs": [
        {
          "output_type": "execute_result",
          "data": {
            "text/plain": [
              "<matplotlib.legend.Legend at 0x7fb66a57ce90>"
            ]
          },
          "metadata": {},
          "execution_count": 18
        },
        {
          "output_type": "display_data",
          "data": {
            "text/plain": [
              "<Figure size 432x288 with 1 Axes>"
            ],
            "image/png": "[encoded data removed]"
          },
          "metadata": {
            "needs_background": "light"
          }
        }
      ]
    },
    {
      "cell_type": "code",
      "source": [
        "#stackplot - generated by plotting different datasets vertically on top of one another rather than overlapping with one another\n",
        "days = [1,2,3,4,5]\n",
        "sleeping = [7,8,9,10,2]\n",
        "eating = [2,4,6,8,2]\n",
        "working = [7,3,6,8,4]\n",
        "playing = [4,3,5,4,1]\n",
        "plt.stackplot(days,sleeping,eating,working,playing,colors = ['r','k','m','c'])"
      ],
      "metadata": {
        "colab": {
          "base_uri": "https://localhost:8080/",
          "height": 334
        },
        "id": "9plm_hf0-O-l",
        "outputId": "3b706145-fbef-4421-8d1a-6b6cdc936530"
      },
      "execution_count": 19,
      "outputs": [
        {
          "output_type": "execute_result",
          "data": {
            "text/plain": [
              "[<matplotlib.collections.PolyCollection at 0x7fb6640bc990>,\n",
              " <matplotlib.collections.PolyCollection at 0x7fb663febed0>,\n",
              " <matplotlib.collections.PolyCollection at 0x7fb663f7b250>,\n",
              " <matplotlib.collections.PolyCollection at 0x7fb663f7b590>]"
            ]
          },
          "metadata": {},
          "execution_count": 19
        },
        {
          "output_type": "display_data",
          "data": {
            "text/plain": [
              "<Figure size 432x288 with 1 Axes>"
            ],
            "image/png": "[encoded data removed]"
          },
          "metadata": {
            "needs_background": "light"
          }
        }
      ]
    },
    {
      "cell_type": "code",
      "source": [
        "#line 3D plot\n",
        "#axes3d is aclass required for enabling 3D projections\n",
        "#style for getting various styples\n",
        "from mpl_toolkits.mplot3d import axes3d\n",
        "import matplotlib.pyplot as plt\n",
        "from matplotlib import style\n",
        "#fivethirtyeight for statstical visualization of data\n",
        "style.use('fivethirtyeight')\n",
        "fig = plt.figure()\n",
        "ax = fig.add_subplot(111,projection = '3d')\n",
        "x = [1,2,3,4,5,6,7,8,9,10]\n",
        "y = [1,4,2,5,8,6,3,5,7,2]\n",
        "z = [3,6,9,4,2,5,8,9,2,1]\n",
        "ax.plot(x,y,z,c = 'b', marker = 'o')\n",
        "ax.set_xlabel('x-axis')\n",
        "ax.set_ylabel('y-axis')\n",
        "ax.set_zlabel('z-axis')"
      ],
      "metadata": {
        "colab": {
          "base_uri": "https://localhost:8080/",
          "height": 282
        },
        "id": "KrzNEJTO-Wjw",
        "outputId": "dc667884-f9ce-4568-b0af-e6e57d3813e4"
      },
      "execution_count": 20,
      "outputs": [
        {
          "output_type": "execute_result",
          "data": {
            "text/plain": [
              "Text(0.5, 0, 'z-axis')"
            ]
          },
          "metadata": {},
          "execution_count": 20
        },
        {
          "output_type": "display_data",
          "data": {
            "text/plain": [
              "<Figure size 432x288 with 1 Axes>"
            ],
            "image/png": "[encoded data removed]"
          },
          "metadata": {}
        }
      ]
    }
  ],
  "metadata": {
    "colab": {
      "name": "Veena D.H.ipynb",
      "provenance": [],
      "collapsed_sections": []
    },
    "kernelspec": {
      "display_name": "Python 3",
      "name": "python3"
    },
    "language_info": {
      "name": "python"
    }
  },
  "nbformat": 4,
  "nbformat_minor": 0
}